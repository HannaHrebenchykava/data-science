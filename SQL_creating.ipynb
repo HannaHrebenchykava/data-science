{
 "cells": [
  {
   "cell_type": "markdown",
   "id": "8e11cfb7",
   "metadata": {},
   "source": [
    "## Створити базу даних database у якій буде три таблички: Table1, Table2, Table3."
   ]
  },
  {
   "cell_type": "code",
   "execution_count": 9,
   "id": "4b4f4c01",
   "metadata": {},
   "outputs": [],
   "source": [
    "import sqlite3 as sql\n",
    "import pandas as pd"
   ]
  },
  {
   "cell_type": "code",
   "execution_count": 10,
   "id": "fe364449",
   "metadata": {},
   "outputs": [],
   "source": [
    "connection = sql.connect('database.sqlite')\n",
    "cursor = connection.cursor()"
   ]
  },
  {
   "cell_type": "markdown",
   "id": "57e84722",
   "metadata": {},
   "source": [
    "## Table1 міститиме:\n",
    "\n",
    "### первинний ключ ID;\n",
    "\n",
    "### колонку Vehicle_type;\n",
    "\n",
    "### колонку Milleage;\n",
    "\n",
    "### колонку Max_speed;\n",
    "\n",
    "### колонку Passenger_count;\n",
    "\n",
    "### колонку Category (можливі категорії транспортного засобу A, B, C).\n"
   ]
  },
  {
   "cell_type": "code",
   "execution_count": 95,
   "id": "3d7cb3b4",
   "metadata": {},
   "outputs": [],
   "source": [
    "sql_query = '''\n",
    "CREATE TABLE IF NOT EXISTS table1(\n",
    "    `id` INTEGER PRIMARY KEY,\n",
    "    `vehicle_type` VARCHAR(50),\n",
    "    `mileage` INTEGER,\n",
    "    `max_speed` INTEGER,\n",
    "    `passenger_count` INTEGER,\n",
    "    `category` VARCHAR(1)\n",
    "); '''\n",
    "\n",
    "try:\n",
    "    cursor.execute(sql_query) \n",
    "    connection.commit() \n",
    "except Exception as e:\n",
    "    print(e)\n",
    "    connection.rollback()"
   ]
  },
  {
   "cell_type": "markdown",
   "id": "5d5ffc91",
   "metadata": {},
   "source": [
    "### Метод створення бази даних та заповнення її значеннями не принциповий проте потрібно, щоб було 20 різних значень в цій таблиці. Важливо, щоб було 3 категорії А, 12 категорій В і 5 категорій С. При чому категорії С має відповідати вантажний Vehicle_type, категорії В – легковий, і категорії А відповідно щось типу мотоцикла. "
   ]
  },
  {
   "cell_type": "code",
   "execution_count": 12,
   "id": "79d15f36",
   "metadata": {},
   "outputs": [],
   "source": [
    "import random"
   ]
  },
  {
   "cell_type": "markdown",
   "id": "fd319783",
   "metadata": {},
   "source": [
    "\"A\" category:"
   ]
  },
  {
   "cell_type": "code",
   "execution_count": 98,
   "id": "96994f4e",
   "metadata": {},
   "outputs": [
    {
     "name": "stdout",
     "output_type": "stream",
     "text": [
      "[24000, 21000, 2000]\n",
      "[250, 400, 220]\n",
      "[1, 0, 1]\n"
     ]
    }
   ],
   "source": [
    "\n",
    "mileage = [random.randint(1, 30)*1000 for n in range(3)]\n",
    "max_speed = [random.randint(20, 40)*10 for n in range(3)]\n",
    "passengers_count = [random.randint(0, 1) for n in range(3)]\n",
    "print(mileage)\n",
    "print(max_speed)\n",
    "print(passengers_count)"
   ]
  },
  {
   "cell_type": "code",
   "execution_count": 99,
   "id": "75285224",
   "metadata": {},
   "outputs": [],
   "source": [
    "sql_query = ''' \n",
    "INSERT INTO `table1` \n",
    "(`vehicle_type`, `mileage`, `max_speed`, `passenger_count`, `category`)\n",
    "VALUES (\"moto\", \"%s\", \"%s\", \"%s\", \"A\" )\n",
    "'''"
   ]
  },
  {
   "cell_type": "code",
   "execution_count": 100,
   "id": "9ef3d467",
   "metadata": {},
   "outputs": [],
   "source": [
    "try:\n",
    "    for i in range(3):\n",
    "        cursor.execute(sql_query%(mileage[i], max_speed[i], passengers_count[i]))\n",
    "        connection.commit() \n",
    "except Exception as e:\n",
    "    print(e)\n",
    "    connection.rollback()"
   ]
  },
  {
   "cell_type": "markdown",
   "id": "d8d44315",
   "metadata": {},
   "source": [
    "\"B\" category:"
   ]
  },
  {
   "cell_type": "code",
   "execution_count": 101,
   "id": "11d5fde5",
   "metadata": {},
   "outputs": [
    {
     "name": "stdout",
     "output_type": "stream",
     "text": [
      "[2000, 15000, 8000, 13000, 19000, 14000, 16000, 17000, 23000, 1000, 22000, 11000]\n",
      "[350, 220, 220, 340, 280, 370, 290, 350, 330, 200, 200, 350]\n"
     ]
    }
   ],
   "source": [
    "mileage = [random.randint(1, 30)*1000 for n in range(12)]\n",
    "max_speed = [random.randint(20, 37)*10 for n in range(12)]\n",
    "print(mileage)\n",
    "print(max_speed)\n"
   ]
  },
  {
   "cell_type": "code",
   "execution_count": 102,
   "id": "e4643e72",
   "metadata": {},
   "outputs": [],
   "source": [
    "sql_query = ''' \n",
    "INSERT INTO `table1` \n",
    "(`vehicle_type`, `mileage`, `max_speed`, `passenger_count`, `category`)\n",
    "VALUES (\"auto\", \"%s\", \"%s\", 4, \"B\" )\n",
    "'''"
   ]
  },
  {
   "cell_type": "code",
   "execution_count": 103,
   "id": "f0656f4c",
   "metadata": {},
   "outputs": [],
   "source": [
    "try:\n",
    "    for i in range(12):\n",
    "        cursor.execute(sql_query%(mileage[i], max_speed[i])) \n",
    "        connection.commit() \n",
    "except Exception as e:\n",
    "    print(e)\n",
    "    connection.rollback()"
   ]
  },
  {
   "cell_type": "markdown",
   "id": "acdd4cfb",
   "metadata": {},
   "source": [
    "\"C\" category:"
   ]
  },
  {
   "cell_type": "code",
   "execution_count": 106,
   "id": "d61af79a",
   "metadata": {},
   "outputs": [
    {
     "name": "stdout",
     "output_type": "stream",
     "text": [
      "[281000, 54000, 180000, 261000, 21000]\n",
      "[120, 160, 150, 140, 160]\n",
      "[15, 16, 9, 16, 10]\n"
     ]
    }
   ],
   "source": [
    "mileage = [random.randint(20, 300)*1000 for n in range(5)]\n",
    "max_speed = [random.randint(10, 16)*10 for n in range(5)]\n",
    "passenger_count = [random.randint(8, 16) for n in range(5)]\n",
    "print(mileage)\n",
    "print(max_speed)\n",
    "print(passenger_count)"
   ]
  },
  {
   "cell_type": "code",
   "execution_count": 107,
   "id": "0ebc1fa7",
   "metadata": {},
   "outputs": [],
   "source": [
    "sql_query = ''' \n",
    "INSERT INTO `table1` \n",
    "(`vehicle_type`, `mileage`, `max_speed`, `passenger_count`, `category`)\n",
    "VALUES (\"truck\", \"%s\", \"%s\", \"%s\", \"C\" )\n",
    "'''"
   ]
  },
  {
   "cell_type": "code",
   "execution_count": 108,
   "id": "5464f780",
   "metadata": {},
   "outputs": [],
   "source": [
    "try:\n",
    "    for i in range(5):\n",
    "        cursor.execute(sql_query%(mileage[i], max_speed[i], passenger_count[i])) \n",
    "        connection.commit() \n",
    "except Exception as e:\n",
    "    print(e)\n",
    "    connection.rollback()"
   ]
  },
  {
   "cell_type": "markdown",
   "id": "a74583ce",
   "metadata": {},
   "source": [
    "# Table1"
   ]
  },
  {
   "cell_type": "code",
   "execution_count": 109,
   "id": "89db35ad",
   "metadata": {},
   "outputs": [
    {
     "data": {
      "text/html": [
       "<div>\n",
       "<style scoped>\n",
       "    .dataframe tbody tr th:only-of-type {\n",
       "        vertical-align: middle;\n",
       "    }\n",
       "\n",
       "    .dataframe tbody tr th {\n",
       "        vertical-align: top;\n",
       "    }\n",
       "\n",
       "    .dataframe thead th {\n",
       "        text-align: right;\n",
       "    }\n",
       "</style>\n",
       "<table border=\"1\" class=\"dataframe\">\n",
       "  <thead>\n",
       "    <tr style=\"text-align: right;\">\n",
       "      <th></th>\n",
       "      <th>id</th>\n",
       "      <th>vehicle_type</th>\n",
       "      <th>mileage</th>\n",
       "      <th>max_speed</th>\n",
       "      <th>passenger_count</th>\n",
       "      <th>category</th>\n",
       "    </tr>\n",
       "  </thead>\n",
       "  <tbody>\n",
       "    <tr>\n",
       "      <th>0</th>\n",
       "      <td>1</td>\n",
       "      <td>moto</td>\n",
       "      <td>24000</td>\n",
       "      <td>250</td>\n",
       "      <td>1</td>\n",
       "      <td>A</td>\n",
       "    </tr>\n",
       "    <tr>\n",
       "      <th>1</th>\n",
       "      <td>2</td>\n",
       "      <td>moto</td>\n",
       "      <td>21000</td>\n",
       "      <td>400</td>\n",
       "      <td>0</td>\n",
       "      <td>A</td>\n",
       "    </tr>\n",
       "    <tr>\n",
       "      <th>2</th>\n",
       "      <td>3</td>\n",
       "      <td>moto</td>\n",
       "      <td>2000</td>\n",
       "      <td>220</td>\n",
       "      <td>1</td>\n",
       "      <td>A</td>\n",
       "    </tr>\n",
       "    <tr>\n",
       "      <th>3</th>\n",
       "      <td>4</td>\n",
       "      <td>auto</td>\n",
       "      <td>2000</td>\n",
       "      <td>350</td>\n",
       "      <td>4</td>\n",
       "      <td>B</td>\n",
       "    </tr>\n",
       "    <tr>\n",
       "      <th>4</th>\n",
       "      <td>5</td>\n",
       "      <td>auto</td>\n",
       "      <td>15000</td>\n",
       "      <td>220</td>\n",
       "      <td>4</td>\n",
       "      <td>B</td>\n",
       "    </tr>\n",
       "    <tr>\n",
       "      <th>5</th>\n",
       "      <td>6</td>\n",
       "      <td>auto</td>\n",
       "      <td>8000</td>\n",
       "      <td>220</td>\n",
       "      <td>4</td>\n",
       "      <td>B</td>\n",
       "    </tr>\n",
       "    <tr>\n",
       "      <th>6</th>\n",
       "      <td>7</td>\n",
       "      <td>auto</td>\n",
       "      <td>13000</td>\n",
       "      <td>340</td>\n",
       "      <td>4</td>\n",
       "      <td>B</td>\n",
       "    </tr>\n",
       "    <tr>\n",
       "      <th>7</th>\n",
       "      <td>8</td>\n",
       "      <td>auto</td>\n",
       "      <td>19000</td>\n",
       "      <td>280</td>\n",
       "      <td>4</td>\n",
       "      <td>B</td>\n",
       "    </tr>\n",
       "    <tr>\n",
       "      <th>8</th>\n",
       "      <td>9</td>\n",
       "      <td>auto</td>\n",
       "      <td>14000</td>\n",
       "      <td>370</td>\n",
       "      <td>4</td>\n",
       "      <td>B</td>\n",
       "    </tr>\n",
       "    <tr>\n",
       "      <th>9</th>\n",
       "      <td>10</td>\n",
       "      <td>auto</td>\n",
       "      <td>16000</td>\n",
       "      <td>290</td>\n",
       "      <td>4</td>\n",
       "      <td>B</td>\n",
       "    </tr>\n",
       "    <tr>\n",
       "      <th>10</th>\n",
       "      <td>11</td>\n",
       "      <td>auto</td>\n",
       "      <td>17000</td>\n",
       "      <td>350</td>\n",
       "      <td>4</td>\n",
       "      <td>B</td>\n",
       "    </tr>\n",
       "    <tr>\n",
       "      <th>11</th>\n",
       "      <td>12</td>\n",
       "      <td>auto</td>\n",
       "      <td>23000</td>\n",
       "      <td>330</td>\n",
       "      <td>4</td>\n",
       "      <td>B</td>\n",
       "    </tr>\n",
       "    <tr>\n",
       "      <th>12</th>\n",
       "      <td>13</td>\n",
       "      <td>auto</td>\n",
       "      <td>1000</td>\n",
       "      <td>200</td>\n",
       "      <td>4</td>\n",
       "      <td>B</td>\n",
       "    </tr>\n",
       "    <tr>\n",
       "      <th>13</th>\n",
       "      <td>14</td>\n",
       "      <td>auto</td>\n",
       "      <td>22000</td>\n",
       "      <td>200</td>\n",
       "      <td>4</td>\n",
       "      <td>B</td>\n",
       "    </tr>\n",
       "    <tr>\n",
       "      <th>14</th>\n",
       "      <td>15</td>\n",
       "      <td>auto</td>\n",
       "      <td>11000</td>\n",
       "      <td>350</td>\n",
       "      <td>4</td>\n",
       "      <td>B</td>\n",
       "    </tr>\n",
       "    <tr>\n",
       "      <th>15</th>\n",
       "      <td>16</td>\n",
       "      <td>truck</td>\n",
       "      <td>281000</td>\n",
       "      <td>120</td>\n",
       "      <td>15</td>\n",
       "      <td>C</td>\n",
       "    </tr>\n",
       "    <tr>\n",
       "      <th>16</th>\n",
       "      <td>17</td>\n",
       "      <td>truck</td>\n",
       "      <td>54000</td>\n",
       "      <td>160</td>\n",
       "      <td>16</td>\n",
       "      <td>C</td>\n",
       "    </tr>\n",
       "    <tr>\n",
       "      <th>17</th>\n",
       "      <td>18</td>\n",
       "      <td>truck</td>\n",
       "      <td>180000</td>\n",
       "      <td>150</td>\n",
       "      <td>9</td>\n",
       "      <td>C</td>\n",
       "    </tr>\n",
       "    <tr>\n",
       "      <th>18</th>\n",
       "      <td>19</td>\n",
       "      <td>truck</td>\n",
       "      <td>261000</td>\n",
       "      <td>140</td>\n",
       "      <td>16</td>\n",
       "      <td>C</td>\n",
       "    </tr>\n",
       "    <tr>\n",
       "      <th>19</th>\n",
       "      <td>20</td>\n",
       "      <td>truck</td>\n",
       "      <td>21000</td>\n",
       "      <td>160</td>\n",
       "      <td>10</td>\n",
       "      <td>C</td>\n",
       "    </tr>\n",
       "  </tbody>\n",
       "</table>\n",
       "</div>"
      ],
      "text/plain": [
       "    id vehicle_type  mileage  max_speed  passenger_count category\n",
       "0    1         moto    24000        250                1        A\n",
       "1    2         moto    21000        400                0        A\n",
       "2    3         moto     2000        220                1        A\n",
       "3    4         auto     2000        350                4        B\n",
       "4    5         auto    15000        220                4        B\n",
       "5    6         auto     8000        220                4        B\n",
       "6    7         auto    13000        340                4        B\n",
       "7    8         auto    19000        280                4        B\n",
       "8    9         auto    14000        370                4        B\n",
       "9   10         auto    16000        290                4        B\n",
       "10  11         auto    17000        350                4        B\n",
       "11  12         auto    23000        330                4        B\n",
       "12  13         auto     1000        200                4        B\n",
       "13  14         auto    22000        200                4        B\n",
       "14  15         auto    11000        350                4        B\n",
       "15  16        truck   281000        120               15        C\n",
       "16  17        truck    54000        160               16        C\n",
       "17  18        truck   180000        150                9        C\n",
       "18  19        truck   261000        140               16        C\n",
       "19  20        truck    21000        160               10        C"
      ]
     },
     "execution_count": 109,
     "metadata": {},
     "output_type": "execute_result"
    }
   ],
   "source": [
    "select_query = '''\n",
    "SELECT *\n",
    "FROM table1\n",
    "'''\n",
    "df_table1 = pd.read_sql_query(select_query, connection)\n",
    "df_table1"
   ]
  },
  {
   "cell_type": "markdown",
   "id": "85551d9f",
   "metadata": {},
   "source": [
    "### Table 2 міститиме первинний ключ свій власний, а також чужий ключ з Table 1. Крім цього міститиме колонки з 20-ма різними водіями, тобто колонки Driver_name та Driver_category (можливі категорії транспортного засобу A, B, C). Важливо, що один водій може водити лише один транспортний засіб. \n",
    "\n",
    "### При чому потрібно зробити рівно 7 помилкових записів. Тобто водій з категорією В наприклад водить Вантажівку, а водій з категорією А – легковий автомобіль. "
   ]
  },
  {
   "cell_type": "code",
   "execution_count": 112,
   "id": "1e9151a2",
   "metadata": {},
   "outputs": [],
   "source": [
    "sql_query = '''\n",
    "CREATE TABLE IF NOT EXISTS table2(\n",
    "    `id` INTEGER PRIMARY KEY,\n",
    "    `id_vehicle` INTEGER FOREIGH KEY REFERENCES `table1`(`id`) ON DELETE CASCADE,\n",
    "    `driver_name` VARCHAR(50),\n",
    "    `driver_category` VARCHAR(1)\n",
    "); '''\n"
   ]
  },
  {
   "cell_type": "code",
   "execution_count": 113,
   "id": "21310acf",
   "metadata": {},
   "outputs": [],
   "source": [
    "try:\n",
    "    cursor.execute(sql_query) \n",
    "    connection.commit() \n",
    "except Exception as e:\n",
    "    print(e)\n",
    "    connection.rollback()"
   ]
  },
  {
   "cell_type": "code",
   "execution_count": 261,
   "id": "585a3678",
   "metadata": {},
   "outputs": [
    {
     "name": "stdout",
     "output_type": "stream",
     "text": [
      "Collecting names\n",
      "  Downloading names-0.3.0.tar.gz (789 kB)\n",
      "\u001b[2K     \u001b[90m━━━━━━━━━━━━━━━━━━━━━━━━━━━━━━━━━━━━━━━\u001b[0m \u001b[32m789.1/789.1 kB\u001b[0m \u001b[31m5.4 MB/s\u001b[0m eta \u001b[36m0:00:00\u001b[0ma \u001b[36m0:00:01\u001b[0m\n",
      "\u001b[?25h  Preparing metadata (setup.py) ... \u001b[?25ldone\n",
      "\u001b[?25hBuilding wheels for collected packages: names\n",
      "  Building wheel for names (setup.py) ... \u001b[?25ldone\n",
      "\u001b[?25h  Created wheel for names: filename=names-0.3.0-py3-none-any.whl size=803681 sha256=5e3a81981d742fb99568e2b1b3ce388c7fb1fdf05f0be3c07fba63ea7fc89d5e\n",
      "  Stored in directory: /Users/hanna/Library/Caches/pip/wheels/8d/db/fc/50ec19a89a8dcbbd158a4aae44123cb525cda1f07dae287197\n",
      "Successfully built names\n",
      "Installing collected packages: names\n",
      "Successfully installed names-0.3.0\n",
      "Note: you may need to restart the kernel to use updated packages.\n"
     ]
    }
   ],
   "source": [
    "pip install names"
   ]
  },
  {
   "cell_type": "code",
   "execution_count": 38,
   "id": "4d0c82d4",
   "metadata": {},
   "outputs": [],
   "source": [
    "import names"
   ]
  },
  {
   "cell_type": "code",
   "execution_count": 5,
   "id": "8432c7bd",
   "metadata": {},
   "outputs": [
    {
     "name": "stdout",
     "output_type": "stream",
     "text": [
      "[1, 2, 3, 4, 5, 6, 7, 8, 9, 10, 11, 12, 13, 14, 15, 16, 17, 18, 19, 20]\n",
      "['Norberto Fetzer', 'Diane Gross', 'Cleveland Durham', 'Jean Benbow', 'Timothy Johnson', 'Daniel Angarola', 'Kenneth Mclean', 'Jason Scott', 'Charles Harper', 'William Fortner', 'Robert Johnson', 'Dorothy Dessert', 'John Perry', 'Carrol Ohlsen', 'Gary Darby', 'William Vayner', 'Cherie Mcalpin', 'Daniel Hale', 'Tracy Easterling', 'Morgan Beard']\n",
      "['A', 'A', 'A', 'A', 'A', 'B', 'B', 'B', 'B', 'B', 'B', 'B', 'C', 'C', 'C', 'C', 'C', 'C', 'B', 'B']\n"
     ]
    }
   ],
   "source": [
    "id_vehicle = [i for i in range(1, 21)]\n",
    "driver_name = [names.get_full_name() for i in range(20)]\n",
    "driver_category = [\"A\"]*5 + [\"B\"]*7 +[\"C\"]*6 +[\"B\"]*2\n",
    "\n",
    "print(id_vehicle)\n",
    "print(driver_name)\n",
    "print(driver_category)"
   ]
  },
  {
   "cell_type": "code",
   "execution_count": 114,
   "id": "20adadda",
   "metadata": {},
   "outputs": [],
   "source": [
    "sql_query = ''' \n",
    "INSERT INTO `table2` \n",
    "(`id_vehicle`, `driver_name`, `driver_category`)\n",
    "VALUES (\"%s\", \"%s\", \"%s\")\n",
    "'''"
   ]
  },
  {
   "cell_type": "code",
   "execution_count": 115,
   "id": "f8ceecb6",
   "metadata": {},
   "outputs": [],
   "source": [
    "try:\n",
    "    for i in range(20):\n",
    "        cursor.execute(sql_query%(id_vehicle[i], driver_name[i], driver_category[i])) \n",
    "        connection.commit() \n",
    "except Exception as e:\n",
    "    print(e)\n",
    "    connection.rollback()"
   ]
  },
  {
   "cell_type": "markdown",
   "id": "c5b4b06d",
   "metadata": {},
   "source": [
    "# Table2"
   ]
  },
  {
   "cell_type": "code",
   "execution_count": 116,
   "id": "bd9fec7d",
   "metadata": {},
   "outputs": [
    {
     "data": {
      "text/html": [
       "<div>\n",
       "<style scoped>\n",
       "    .dataframe tbody tr th:only-of-type {\n",
       "        vertical-align: middle;\n",
       "    }\n",
       "\n",
       "    .dataframe tbody tr th {\n",
       "        vertical-align: top;\n",
       "    }\n",
       "\n",
       "    .dataframe thead th {\n",
       "        text-align: right;\n",
       "    }\n",
       "</style>\n",
       "<table border=\"1\" class=\"dataframe\">\n",
       "  <thead>\n",
       "    <tr style=\"text-align: right;\">\n",
       "      <th></th>\n",
       "      <th>id</th>\n",
       "      <th>id_vehicle</th>\n",
       "      <th>driver_name</th>\n",
       "      <th>driver_category</th>\n",
       "    </tr>\n",
       "  </thead>\n",
       "  <tbody>\n",
       "    <tr>\n",
       "      <th>0</th>\n",
       "      <td>1</td>\n",
       "      <td>1</td>\n",
       "      <td>Norberto Fetzer</td>\n",
       "      <td>A</td>\n",
       "    </tr>\n",
       "    <tr>\n",
       "      <th>1</th>\n",
       "      <td>2</td>\n",
       "      <td>2</td>\n",
       "      <td>Diane Gross</td>\n",
       "      <td>A</td>\n",
       "    </tr>\n",
       "    <tr>\n",
       "      <th>2</th>\n",
       "      <td>3</td>\n",
       "      <td>3</td>\n",
       "      <td>Cleveland Durham</td>\n",
       "      <td>A</td>\n",
       "    </tr>\n",
       "    <tr>\n",
       "      <th>3</th>\n",
       "      <td>4</td>\n",
       "      <td>4</td>\n",
       "      <td>Jean Benbow</td>\n",
       "      <td>A</td>\n",
       "    </tr>\n",
       "    <tr>\n",
       "      <th>4</th>\n",
       "      <td>5</td>\n",
       "      <td>5</td>\n",
       "      <td>Timothy Johnson</td>\n",
       "      <td>A</td>\n",
       "    </tr>\n",
       "    <tr>\n",
       "      <th>5</th>\n",
       "      <td>6</td>\n",
       "      <td>6</td>\n",
       "      <td>Daniel Angarola</td>\n",
       "      <td>B</td>\n",
       "    </tr>\n",
       "    <tr>\n",
       "      <th>6</th>\n",
       "      <td>7</td>\n",
       "      <td>7</td>\n",
       "      <td>Kenneth Mclean</td>\n",
       "      <td>B</td>\n",
       "    </tr>\n",
       "    <tr>\n",
       "      <th>7</th>\n",
       "      <td>8</td>\n",
       "      <td>8</td>\n",
       "      <td>Jason Scott</td>\n",
       "      <td>B</td>\n",
       "    </tr>\n",
       "    <tr>\n",
       "      <th>8</th>\n",
       "      <td>9</td>\n",
       "      <td>9</td>\n",
       "      <td>Charles Harper</td>\n",
       "      <td>B</td>\n",
       "    </tr>\n",
       "    <tr>\n",
       "      <th>9</th>\n",
       "      <td>10</td>\n",
       "      <td>10</td>\n",
       "      <td>William Fortner</td>\n",
       "      <td>B</td>\n",
       "    </tr>\n",
       "    <tr>\n",
       "      <th>10</th>\n",
       "      <td>11</td>\n",
       "      <td>11</td>\n",
       "      <td>Robert Johnson</td>\n",
       "      <td>B</td>\n",
       "    </tr>\n",
       "    <tr>\n",
       "      <th>11</th>\n",
       "      <td>12</td>\n",
       "      <td>12</td>\n",
       "      <td>Dorothy Dessert</td>\n",
       "      <td>B</td>\n",
       "    </tr>\n",
       "    <tr>\n",
       "      <th>12</th>\n",
       "      <td>13</td>\n",
       "      <td>13</td>\n",
       "      <td>John Perry</td>\n",
       "      <td>C</td>\n",
       "    </tr>\n",
       "    <tr>\n",
       "      <th>13</th>\n",
       "      <td>14</td>\n",
       "      <td>14</td>\n",
       "      <td>Carrol Ohlsen</td>\n",
       "      <td>C</td>\n",
       "    </tr>\n",
       "    <tr>\n",
       "      <th>14</th>\n",
       "      <td>15</td>\n",
       "      <td>15</td>\n",
       "      <td>Gary Darby</td>\n",
       "      <td>C</td>\n",
       "    </tr>\n",
       "    <tr>\n",
       "      <th>15</th>\n",
       "      <td>16</td>\n",
       "      <td>16</td>\n",
       "      <td>William Vayner</td>\n",
       "      <td>C</td>\n",
       "    </tr>\n",
       "    <tr>\n",
       "      <th>16</th>\n",
       "      <td>17</td>\n",
       "      <td>17</td>\n",
       "      <td>Cherie Mcalpin</td>\n",
       "      <td>C</td>\n",
       "    </tr>\n",
       "    <tr>\n",
       "      <th>17</th>\n",
       "      <td>18</td>\n",
       "      <td>18</td>\n",
       "      <td>Daniel Hale</td>\n",
       "      <td>C</td>\n",
       "    </tr>\n",
       "    <tr>\n",
       "      <th>18</th>\n",
       "      <td>19</td>\n",
       "      <td>19</td>\n",
       "      <td>Tracy Easterling</td>\n",
       "      <td>B</td>\n",
       "    </tr>\n",
       "    <tr>\n",
       "      <th>19</th>\n",
       "      <td>20</td>\n",
       "      <td>20</td>\n",
       "      <td>Morgan Beard</td>\n",
       "      <td>B</td>\n",
       "    </tr>\n",
       "  </tbody>\n",
       "</table>\n",
       "</div>"
      ],
      "text/plain": [
       "    id  id_vehicle       driver_name driver_category\n",
       "0    1           1   Norberto Fetzer               A\n",
       "1    2           2       Diane Gross               A\n",
       "2    3           3  Cleveland Durham               A\n",
       "3    4           4       Jean Benbow               A\n",
       "4    5           5   Timothy Johnson               A\n",
       "5    6           6   Daniel Angarola               B\n",
       "6    7           7    Kenneth Mclean               B\n",
       "7    8           8       Jason Scott               B\n",
       "8    9           9    Charles Harper               B\n",
       "9   10          10   William Fortner               B\n",
       "10  11          11    Robert Johnson               B\n",
       "11  12          12   Dorothy Dessert               B\n",
       "12  13          13        John Perry               C\n",
       "13  14          14     Carrol Ohlsen               C\n",
       "14  15          15        Gary Darby               C\n",
       "15  16          16    William Vayner               C\n",
       "16  17          17    Cherie Mcalpin               C\n",
       "17  18          18       Daniel Hale               C\n",
       "18  19          19  Tracy Easterling               B\n",
       "19  20          20      Morgan Beard               B"
      ]
     },
     "execution_count": 116,
     "metadata": {},
     "output_type": "execute_result"
    }
   ],
   "source": [
    "select_query = '''\n",
    "SELECT *\n",
    "FROM table2\n",
    "'''\n",
    "df_table2 = pd.read_sql_query(select_query, connection)\n",
    "df_table2"
   ]
  },
  {
   "cell_type": "markdown",
   "id": "ebe0407d",
   "metadata": {},
   "source": [
    "### Table 3 міститиме первинний ключ, колонку Category та колонку Permitted_roads (просто якийсь рандомний набір букв та цифр, наприклад CR22, AT12). 10 довільних записів."
   ]
  },
  {
   "cell_type": "code",
   "execution_count": 47,
   "id": "32d7e253",
   "metadata": {},
   "outputs": [],
   "source": [
    "sql_query = '''\n",
    "CREATE TABLE IF NOT EXISTS table3(\n",
    "    `id` INTEGER PRIMARY KEY,\n",
    "    `category` VARCHAR(1),\n",
    "    `permitted_roads` VARCHAR(10)\n",
    "); '''"
   ]
  },
  {
   "cell_type": "code",
   "execution_count": 48,
   "id": "5f41bc42",
   "metadata": {},
   "outputs": [],
   "source": [
    "try:\n",
    "    cursor.execute(sql_query) \n",
    "    connection.commit() \n",
    "except Exception as e:\n",
    "    print(e)\n",
    "    connection.rollback()"
   ]
  },
  {
   "cell_type": "code",
   "execution_count": 50,
   "id": "f3c79a9e",
   "metadata": {},
   "outputs": [],
   "source": [
    "import string"
   ]
  },
  {
   "cell_type": "code",
   "execution_count": 56,
   "id": "dec7039d",
   "metadata": {},
   "outputs": [
    {
     "name": "stdout",
     "output_type": "stream",
     "text": [
      "['OX97', 'GR94', 'YE22', 'JK62', 'YI90', 'WY46', 'FH81', 'DL13', 'FV43', 'NB39']\n"
     ]
    }
   ],
   "source": [
    "roads = []\n",
    "for i in range(10):\n",
    "    first = random.choice(string.ascii_letters).upper()\n",
    "    second = random.choice(string.ascii_letters).upper()\n",
    "    number_1 = random.randint(0,9)\n",
    "    number_2 = random.randint(0,9)\n",
    "    name = first + second + str(number_1) + str(number_2)\n",
    "    roads.append(name)\n",
    "print(roads)"
   ]
  },
  {
   "cell_type": "code",
   "execution_count": 57,
   "id": "cbf9625e",
   "metadata": {},
   "outputs": [
    {
     "name": "stdout",
     "output_type": "stream",
     "text": [
      "['A', 'A', 'B', 'B', 'B', 'B', 'C', 'C', 'C', 'C']\n"
     ]
    }
   ],
   "source": [
    "list_category = [\"A\"]*2 + [\"B\"]*4 +[\"C\"]*4\n",
    "print(list_category)"
   ]
  },
  {
   "cell_type": "code",
   "execution_count": 59,
   "id": "3ec3043c",
   "metadata": {},
   "outputs": [],
   "source": [
    "sql_query = ''' \n",
    "INSERT INTO `table3` \n",
    "(`category`, `permitted_roads`)\n",
    "VALUES (\"%s\", \"%s\")\n",
    "'''"
   ]
  },
  {
   "cell_type": "code",
   "execution_count": 60,
   "id": "2d866098",
   "metadata": {},
   "outputs": [],
   "source": [
    "try:\n",
    "    for i in range(10):\n",
    "        cursor.execute(sql_query%(list_category[i], roads[i])) \n",
    "        connection.commit() \n",
    "except Exception as e:\n",
    "    print(e)\n",
    "    connection.rollback()"
   ]
  },
  {
   "cell_type": "markdown",
   "id": "334ae3c6",
   "metadata": {},
   "source": [
    "# Table3"
   ]
  },
  {
   "cell_type": "code",
   "execution_count": 61,
   "id": "d833a0fd",
   "metadata": {},
   "outputs": [
    {
     "data": {
      "text/html": [
       "<div>\n",
       "<style scoped>\n",
       "    .dataframe tbody tr th:only-of-type {\n",
       "        vertical-align: middle;\n",
       "    }\n",
       "\n",
       "    .dataframe tbody tr th {\n",
       "        vertical-align: top;\n",
       "    }\n",
       "\n",
       "    .dataframe thead th {\n",
       "        text-align: right;\n",
       "    }\n",
       "</style>\n",
       "<table border=\"1\" class=\"dataframe\">\n",
       "  <thead>\n",
       "    <tr style=\"text-align: right;\">\n",
       "      <th></th>\n",
       "      <th>id</th>\n",
       "      <th>category</th>\n",
       "      <th>permitted_roads</th>\n",
       "    </tr>\n",
       "  </thead>\n",
       "  <tbody>\n",
       "    <tr>\n",
       "      <th>0</th>\n",
       "      <td>1</td>\n",
       "      <td>A</td>\n",
       "      <td>OX97</td>\n",
       "    </tr>\n",
       "    <tr>\n",
       "      <th>1</th>\n",
       "      <td>2</td>\n",
       "      <td>A</td>\n",
       "      <td>GR94</td>\n",
       "    </tr>\n",
       "    <tr>\n",
       "      <th>2</th>\n",
       "      <td>3</td>\n",
       "      <td>B</td>\n",
       "      <td>YE22</td>\n",
       "    </tr>\n",
       "    <tr>\n",
       "      <th>3</th>\n",
       "      <td>4</td>\n",
       "      <td>B</td>\n",
       "      <td>JK62</td>\n",
       "    </tr>\n",
       "    <tr>\n",
       "      <th>4</th>\n",
       "      <td>5</td>\n",
       "      <td>B</td>\n",
       "      <td>YI90</td>\n",
       "    </tr>\n",
       "    <tr>\n",
       "      <th>5</th>\n",
       "      <td>6</td>\n",
       "      <td>B</td>\n",
       "      <td>WY46</td>\n",
       "    </tr>\n",
       "    <tr>\n",
       "      <th>6</th>\n",
       "      <td>7</td>\n",
       "      <td>C</td>\n",
       "      <td>FH81</td>\n",
       "    </tr>\n",
       "    <tr>\n",
       "      <th>7</th>\n",
       "      <td>8</td>\n",
       "      <td>C</td>\n",
       "      <td>DL13</td>\n",
       "    </tr>\n",
       "    <tr>\n",
       "      <th>8</th>\n",
       "      <td>9</td>\n",
       "      <td>C</td>\n",
       "      <td>FV43</td>\n",
       "    </tr>\n",
       "    <tr>\n",
       "      <th>9</th>\n",
       "      <td>10</td>\n",
       "      <td>C</td>\n",
       "      <td>NB39</td>\n",
       "    </tr>\n",
       "  </tbody>\n",
       "</table>\n",
       "</div>"
      ],
      "text/plain": [
       "   id category permitted_roads\n",
       "0   1        A            OX97\n",
       "1   2        A            GR94\n",
       "2   3        B            YE22\n",
       "3   4        B            JK62\n",
       "4   5        B            YI90\n",
       "5   6        B            WY46\n",
       "6   7        C            FH81\n",
       "7   8        C            DL13\n",
       "8   9        C            FV43\n",
       "9  10        C            NB39"
      ]
     },
     "execution_count": 61,
     "metadata": {},
     "output_type": "execute_result"
    }
   ],
   "source": [
    "select_query = '''\n",
    "SELECT *\n",
    "FROM table3\n",
    "'''\n",
    "df = pd.read_sql_query(select_query, connection)\n",
    "df"
   ]
  },
  {
   "cell_type": "markdown",
   "id": "7628ab2d",
   "metadata": {},
   "source": [
    "### Написати запит Select, зберегти як датафрейм, та експортувати в csv, чи xlsx файл наступні таблиці:\n",
    "\n",
    "### Таблиця, яка міститиме лише правильний матчінг водіїв та їх транспортних засобів. Тобто, водії категорії В – лише легкові, категорії А – лише двохколісні, і С – лише вантажні. \n"
   ]
  },
  {
   "cell_type": "code",
   "execution_count": 117,
   "id": "5fe22ea4",
   "metadata": {},
   "outputs": [
    {
     "data": {
      "text/html": [
       "<div>\n",
       "<style scoped>\n",
       "    .dataframe tbody tr th:only-of-type {\n",
       "        vertical-align: middle;\n",
       "    }\n",
       "\n",
       "    .dataframe tbody tr th {\n",
       "        vertical-align: top;\n",
       "    }\n",
       "\n",
       "    .dataframe thead th {\n",
       "        text-align: right;\n",
       "    }\n",
       "</style>\n",
       "<table border=\"1\" class=\"dataframe\">\n",
       "  <thead>\n",
       "    <tr style=\"text-align: right;\">\n",
       "      <th></th>\n",
       "      <th>driver_name</th>\n",
       "      <th>driver_category</th>\n",
       "      <th>vehicle_type</th>\n",
       "    </tr>\n",
       "  </thead>\n",
       "  <tbody>\n",
       "    <tr>\n",
       "      <th>0</th>\n",
       "      <td>Norberto Fetzer</td>\n",
       "      <td>A</td>\n",
       "      <td>moto</td>\n",
       "    </tr>\n",
       "    <tr>\n",
       "      <th>1</th>\n",
       "      <td>Diane Gross</td>\n",
       "      <td>A</td>\n",
       "      <td>moto</td>\n",
       "    </tr>\n",
       "    <tr>\n",
       "      <th>2</th>\n",
       "      <td>Cleveland Durham</td>\n",
       "      <td>A</td>\n",
       "      <td>moto</td>\n",
       "    </tr>\n",
       "    <tr>\n",
       "      <th>3</th>\n",
       "      <td>Daniel Angarola</td>\n",
       "      <td>B</td>\n",
       "      <td>auto</td>\n",
       "    </tr>\n",
       "    <tr>\n",
       "      <th>4</th>\n",
       "      <td>Kenneth Mclean</td>\n",
       "      <td>B</td>\n",
       "      <td>auto</td>\n",
       "    </tr>\n",
       "    <tr>\n",
       "      <th>5</th>\n",
       "      <td>Jason Scott</td>\n",
       "      <td>B</td>\n",
       "      <td>auto</td>\n",
       "    </tr>\n",
       "    <tr>\n",
       "      <th>6</th>\n",
       "      <td>Charles Harper</td>\n",
       "      <td>B</td>\n",
       "      <td>auto</td>\n",
       "    </tr>\n",
       "    <tr>\n",
       "      <th>7</th>\n",
       "      <td>William Fortner</td>\n",
       "      <td>B</td>\n",
       "      <td>auto</td>\n",
       "    </tr>\n",
       "    <tr>\n",
       "      <th>8</th>\n",
       "      <td>Robert Johnson</td>\n",
       "      <td>B</td>\n",
       "      <td>auto</td>\n",
       "    </tr>\n",
       "    <tr>\n",
       "      <th>9</th>\n",
       "      <td>Dorothy Dessert</td>\n",
       "      <td>B</td>\n",
       "      <td>auto</td>\n",
       "    </tr>\n",
       "    <tr>\n",
       "      <th>10</th>\n",
       "      <td>William Vayner</td>\n",
       "      <td>C</td>\n",
       "      <td>truck</td>\n",
       "    </tr>\n",
       "    <tr>\n",
       "      <th>11</th>\n",
       "      <td>Cherie Mcalpin</td>\n",
       "      <td>C</td>\n",
       "      <td>truck</td>\n",
       "    </tr>\n",
       "    <tr>\n",
       "      <th>12</th>\n",
       "      <td>Daniel Hale</td>\n",
       "      <td>C</td>\n",
       "      <td>truck</td>\n",
       "    </tr>\n",
       "  </tbody>\n",
       "</table>\n",
       "</div>"
      ],
      "text/plain": [
       "         driver_name driver_category vehicle_type\n",
       "0    Norberto Fetzer               A         moto\n",
       "1        Diane Gross               A         moto\n",
       "2   Cleveland Durham               A         moto\n",
       "3    Daniel Angarola               B         auto\n",
       "4     Kenneth Mclean               B         auto\n",
       "5        Jason Scott               B         auto\n",
       "6     Charles Harper               B         auto\n",
       "7    William Fortner               B         auto\n",
       "8     Robert Johnson               B         auto\n",
       "9    Dorothy Dessert               B         auto\n",
       "10    William Vayner               C        truck\n",
       "11    Cherie Mcalpin               C        truck\n",
       "12       Daniel Hale               C        truck"
      ]
     },
     "execution_count": 117,
     "metadata": {},
     "output_type": "execute_result"
    }
   ],
   "source": [
    "select_query = '''\n",
    "SELECT `driver_name`, `driver_category`, `vehicle_type` FROM `table1` JOIN `table2` ON table2.id_vehicle = table1.id\n",
    "WHERE table2.driver_category = table1.category;\n",
    "'''\n",
    "df_1 = pd.read_sql_query(select_query, connection)\n",
    "df_1"
   ]
  },
  {
   "cell_type": "code",
   "execution_count": 67,
   "id": "aaf40de4",
   "metadata": {},
   "outputs": [],
   "source": [
    "df_1.to_csv(\"correct_drivers.csv\")"
   ]
  },
  {
   "cell_type": "markdown",
   "id": "4c344061",
   "metadata": {},
   "source": [
    "### Написати запит Select, зберегти як датафрейм, та експортувати в csv, чи xlsx файл наступні таблиці:\n",
    " \n",
    "### Таблиця, яка міститиме Водіїв, що можуть їздити лише по двох типах доріг. Наприклад, всі водії, які на своєму транспортному засобі можуть їздити по дорозі CR22 та AT12. (При тому, що у водіїв правильна категорія і правильний ТЗ)\n"
   ]
  },
  {
   "cell_type": "code",
   "execution_count": 119,
   "id": "f7a4e24f",
   "metadata": {},
   "outputs": [
    {
     "data": {
      "text/html": [
       "<div>\n",
       "<style scoped>\n",
       "    .dataframe tbody tr th:only-of-type {\n",
       "        vertical-align: middle;\n",
       "    }\n",
       "\n",
       "    .dataframe tbody tr th {\n",
       "        vertical-align: top;\n",
       "    }\n",
       "\n",
       "    .dataframe thead th {\n",
       "        text-align: right;\n",
       "    }\n",
       "</style>\n",
       "<table border=\"1\" class=\"dataframe\">\n",
       "  <thead>\n",
       "    <tr style=\"text-align: right;\">\n",
       "      <th></th>\n",
       "      <th>driver_name</th>\n",
       "      <th>driver_category</th>\n",
       "      <th>vehicle_type</th>\n",
       "    </tr>\n",
       "  </thead>\n",
       "  <tbody>\n",
       "    <tr>\n",
       "      <th>0</th>\n",
       "      <td>Cleveland Durham</td>\n",
       "      <td>A</td>\n",
       "      <td>moto</td>\n",
       "    </tr>\n",
       "    <tr>\n",
       "      <th>1</th>\n",
       "      <td>Diane Gross</td>\n",
       "      <td>A</td>\n",
       "      <td>moto</td>\n",
       "    </tr>\n",
       "    <tr>\n",
       "      <th>2</th>\n",
       "      <td>Norberto Fetzer</td>\n",
       "      <td>A</td>\n",
       "      <td>moto</td>\n",
       "    </tr>\n",
       "  </tbody>\n",
       "</table>\n",
       "</div>"
      ],
      "text/plain": [
       "        driver_name driver_category vehicle_type\n",
       "0  Cleveland Durham               A         moto\n",
       "1       Diane Gross               A         moto\n",
       "2   Norberto Fetzer               A         moto"
      ]
     },
     "execution_count": 119,
     "metadata": {},
     "output_type": "execute_result"
    }
   ],
   "source": [
    "select_query = '''\n",
    "SELECT `driver_name`, `driver_category`, `vehicle_type` FROM `table1` \n",
    "JOIN `table2` ON table2.id_vehicle = table1.id\n",
    "JOIN `table3` ON table3.category = table1.category\n",
    "WHERE table2.driver_category = table1.category AND table3.permitted_roads = 'OX97' OR table3.permitted_roads = 'GR94'\n",
    "GROUP BY `driver_name`;\n",
    "'''\n",
    "df_2 = pd.read_sql_query(select_query, connection)\n",
    "df_2"
   ]
  },
  {
   "cell_type": "code",
   "execution_count": 79,
   "id": "b1d32022",
   "metadata": {},
   "outputs": [],
   "source": [
    "df_2.to_csv(\"select_roads.csv\")"
   ]
  },
  {
   "cell_type": "markdown",
   "id": "6435ca23",
   "metadata": {},
   "source": [
    "### Потрібно дати дескрайб Table1 у вигляді:\n",
    "\n",
    "### Яка середня швидкість транспортних засобів по категоріям?\n",
    "\n",
    "### Який максимальний пробіг по категоріям?\n",
    "\n",
    "### Яка максимальна швидкість транспортного засобу з кількістю пасажирів більше 8 (якщо такі є)?"
   ]
  },
  {
   "cell_type": "code",
   "execution_count": 120,
   "id": "6b993008",
   "metadata": {},
   "outputs": [
    {
     "data": {
      "text/html": [
       "<div>\n",
       "<style scoped>\n",
       "    .dataframe tbody tr th:only-of-type {\n",
       "        vertical-align: middle;\n",
       "    }\n",
       "\n",
       "    .dataframe tbody tr th {\n",
       "        vertical-align: top;\n",
       "    }\n",
       "\n",
       "    .dataframe thead th {\n",
       "        text-align: right;\n",
       "    }\n",
       "</style>\n",
       "<table border=\"1\" class=\"dataframe\">\n",
       "  <thead>\n",
       "    <tr style=\"text-align: right;\">\n",
       "      <th></th>\n",
       "      <th>середня швидкість</th>\n",
       "      <th>категорія</th>\n",
       "    </tr>\n",
       "  </thead>\n",
       "  <tbody>\n",
       "    <tr>\n",
       "      <th>0</th>\n",
       "      <td>290.000000</td>\n",
       "      <td>A</td>\n",
       "    </tr>\n",
       "    <tr>\n",
       "      <th>1</th>\n",
       "      <td>291.666667</td>\n",
       "      <td>B</td>\n",
       "    </tr>\n",
       "    <tr>\n",
       "      <th>2</th>\n",
       "      <td>146.000000</td>\n",
       "      <td>C</td>\n",
       "    </tr>\n",
       "  </tbody>\n",
       "</table>\n",
       "</div>"
      ],
      "text/plain": [
       "   середня швидкість категорія\n",
       "0         290.000000         A\n",
       "1         291.666667         B\n",
       "2         146.000000         C"
      ]
     },
     "execution_count": 120,
     "metadata": {},
     "output_type": "execute_result"
    }
   ],
   "source": [
    "select_1 = '''\n",
    "SELECT AVG(`max_speed`) AS \"середня швидкість\", `category` AS \"категорія\" FROM table1 GROUP BY `category`;\n",
    "'''\n",
    "df_select1 = pd.read_sql_query(select_1, connection)\n",
    "df_select1"
   ]
  },
  {
   "cell_type": "code",
   "execution_count": 121,
   "id": "75d40225",
   "metadata": {},
   "outputs": [
    {
     "data": {
      "text/html": [
       "<div>\n",
       "<style scoped>\n",
       "    .dataframe tbody tr th:only-of-type {\n",
       "        vertical-align: middle;\n",
       "    }\n",
       "\n",
       "    .dataframe tbody tr th {\n",
       "        vertical-align: top;\n",
       "    }\n",
       "\n",
       "    .dataframe thead th {\n",
       "        text-align: right;\n",
       "    }\n",
       "</style>\n",
       "<table border=\"1\" class=\"dataframe\">\n",
       "  <thead>\n",
       "    <tr style=\"text-align: right;\">\n",
       "      <th></th>\n",
       "      <th>максимальний пробіг</th>\n",
       "      <th>категорія</th>\n",
       "    </tr>\n",
       "  </thead>\n",
       "  <tbody>\n",
       "    <tr>\n",
       "      <th>0</th>\n",
       "      <td>24000</td>\n",
       "      <td>A</td>\n",
       "    </tr>\n",
       "    <tr>\n",
       "      <th>1</th>\n",
       "      <td>23000</td>\n",
       "      <td>B</td>\n",
       "    </tr>\n",
       "    <tr>\n",
       "      <th>2</th>\n",
       "      <td>281000</td>\n",
       "      <td>C</td>\n",
       "    </tr>\n",
       "  </tbody>\n",
       "</table>\n",
       "</div>"
      ],
      "text/plain": [
       "   максимальний пробіг категорія\n",
       "0                24000         A\n",
       "1                23000         B\n",
       "2               281000         C"
      ]
     },
     "execution_count": 121,
     "metadata": {},
     "output_type": "execute_result"
    }
   ],
   "source": [
    "select_2 = '''\n",
    "SELECT MAX(`mileage`) AS \"максимальний пробіг\", `category` AS \"категорія\" FROM table1 GROUP BY `category`;\n",
    "'''\n",
    "df_select2 = pd.read_sql_query(select_2, connection)\n",
    "df_select2"
   ]
  },
  {
   "cell_type": "code",
   "execution_count": 145,
   "id": "54c4b683",
   "metadata": {},
   "outputs": [
    {
     "name": "stdout",
     "output_type": "stream",
     "text": [
      "Mаксимальна швидкість транспортного засобу - 160 км/г\n"
     ]
    }
   ],
   "source": [
    "select_3 = '''\n",
    "SELECT MAX(`max_speed`) AS \"максимальна швидкість\" FROM table1 \n",
    "WHERE `passenger_count` > 8;\n",
    "'''\n",
    "cursor.execute(select_3)\n",
    "max_ = cursor.fetchall()\n",
    "if max_[0][0] == None:\n",
    "    print(\"Не існує транспортного засобу з кількістю пасажирів більше 8\")\n",
    "else:\n",
    "    print(\"Mаксимальна швидкість транспортного засобу -\", max_[0][0], \"км/г\")"
   ]
  },
  {
   "cell_type": "code",
   "execution_count": null,
   "id": "7eff0651",
   "metadata": {},
   "outputs": [],
   "source": []
  }
 ],
 "metadata": {
  "kernelspec": {
   "display_name": "Python 3 (ipykernel)",
   "language": "python",
   "name": "python3"
  },
  "language_info": {
   "codemirror_mode": {
    "name": "ipython",
    "version": 3
   },
   "file_extension": ".py",
   "mimetype": "text/x-python",
   "name": "python",
   "nbconvert_exporter": "python",
   "pygments_lexer": "ipython3",
   "version": "3.11.4"
  }
 },
 "nbformat": 4,
 "nbformat_minor": 5
}
